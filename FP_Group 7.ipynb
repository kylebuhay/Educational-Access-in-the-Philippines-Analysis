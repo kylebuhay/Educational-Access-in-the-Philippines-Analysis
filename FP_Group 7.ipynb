{
 "cells": [
  {
   "cell_type": "markdown",
   "id": "da43f5d0-cae2-42a1-86de-d9ffae4044af",
   "metadata": {},
   "source": [
    "# CS ELEC 3C - Final Project"
   ]
  },
  {
   "cell_type": "markdown",
   "id": "6ccbdcfd-7cbb-4642-ac73-08d9a59dc670",
   "metadata": {},
   "source": [
    "## Background of the Dataset"
   ]
  },
  {
   "cell_type": "markdown",
   "id": "e3d5395c-2495-47dd-88ac-46383ad0f1c2",
   "metadata": {},
   "source": [
    "The dataset utilized is the `Historical Enrollment Data` from the Department of Education, which was created September 9, 2024 and updated last November 22, 2022."
   ]
  },
  {
   "cell_type": "markdown",
   "id": "21b8bd67-e34c-4ed2-8b6a-82eba5d8941e",
   "metadata": {},
   "source": [
    "**Historical Enrollment Data**\n",
    "> Some context."
   ]
  },
  {
   "cell_type": "markdown",
   "id": "7a23d741-7588-4f51-8e5e-25c67855844d",
   "metadata": {},
   "source": [
    "**Problem**\n",
    "> Some context."
   ]
  },
  {
   "cell_type": "markdown",
   "id": "acce501a-af98-401a-a2e3-e2e6d2cd1c37",
   "metadata": {},
   "source": [
    "**Objectives of the Analysis**\n",
    "> Some context."
   ]
  },
  {
   "cell_type": "code",
   "execution_count": 1,
   "id": "a2d79f8c-ab69-4652-b36f-410f5e8532c3",
   "metadata": {},
   "outputs": [],
   "source": [
    "#!pip install -r requirements.txt"
   ]
  },
  {
   "cell_type": "code",
   "execution_count": 6,
   "id": "676bf511-6a15-46d6-805d-756f458cdfee",
   "metadata": {},
   "outputs": [],
   "source": [
    "import datetime\n",
    "import warnings\n",
    "\n",
    "import plotly as py\n",
    "import numpy as np\n",
    "import pandas as pd\n",
    "import seaborn as sns\n",
    "import matplotlib.pyplot as plt"
   ]
  },
  {
   "cell_type": "code",
   "execution_count": 7,
   "id": "c7ad402d-8f5d-434f-9582-273bfabdd09e",
   "metadata": {},
   "outputs": [],
   "source": [
    "warnings.filterwarnings(\"ignore\") "
   ]
  },
  {
   "cell_type": "markdown",
   "id": "2ff300b7-737d-409f-8846-7af3b44abfe8",
   "metadata": {},
   "source": [
    "## Preliminary Data Analysis"
   ]
  },
  {
   "cell_type": "markdown",
   "id": "82be67a3-ca4f-4724-9ec5-5fef53de5b31",
   "metadata": {},
   "source": [
    "Conduct an initial exploration of the data. This may include data cleaning, missing value handling, and summary statistics (mean, median, mode, standard deviation)."
   ]
  },
  {
   "cell_type": "code",
   "execution_count": 8,
   "id": "1fb183b9-2f4e-4c23-939b-3bb50a2800f6",
   "metadata": {},
   "outputs": [],
   "source": [
    "df = pd.read_csv('HistoricalEnrollmentData.csv')"
   ]
  },
  {
   "cell_type": "code",
   "execution_count": 9,
   "id": "27e53d9f-2d77-49b4-9f49-456374cdaa58",
   "metadata": {},
   "outputs": [
    {
     "data": {
      "text/html": [
       "<div>\n",
       "<style scoped>\n",
       "    .dataframe tbody tr th:only-of-type {\n",
       "        vertical-align: middle;\n",
       "    }\n",
       "\n",
       "    .dataframe tbody tr th {\n",
       "        vertical-align: top;\n",
       "    }\n",
       "\n",
       "    .dataframe thead th {\n",
       "        text-align: right;\n",
       "    }\n",
       "</style>\n",
       "<table border=\"1\" class=\"dataframe\">\n",
       "  <thead>\n",
       "    <tr style=\"text-align: right;\">\n",
       "      <th></th>\n",
       "      <th>SCHOOL YEAR</th>\n",
       "      <th>SECTOR</th>\n",
       "      <th>REGION</th>\n",
       "      <th>GRADE LEVEL</th>\n",
       "      <th>GENDER</th>\n",
       "      <th>NUMBER OF ENROLLEES</th>\n",
       "    </tr>\n",
       "  </thead>\n",
       "  <tbody>\n",
       "    <tr>\n",
       "      <th>0</th>\n",
       "      <td>2010-2011</td>\n",
       "      <td>PUBLIC</td>\n",
       "      <td>REGION 1</td>\n",
       "      <td>KINDERGARTEN</td>\n",
       "      <td>MALE</td>\n",
       "      <td>43,376</td>\n",
       "    </tr>\n",
       "    <tr>\n",
       "      <th>1</th>\n",
       "      <td>2010-2011</td>\n",
       "      <td>PUBLIC</td>\n",
       "      <td>REGION 2</td>\n",
       "      <td>KINDERGARTEN</td>\n",
       "      <td>MALE</td>\n",
       "      <td>13,837</td>\n",
       "    </tr>\n",
       "    <tr>\n",
       "      <th>2</th>\n",
       "      <td>2010-2011</td>\n",
       "      <td>PUBLIC</td>\n",
       "      <td>REGION 3</td>\n",
       "      <td>KINDERGARTEN</td>\n",
       "      <td>MALE</td>\n",
       "      <td>72,310</td>\n",
       "    </tr>\n",
       "  </tbody>\n",
       "</table>\n",
       "</div>"
      ],
      "text/plain": [
       "  SCHOOL YEAR  SECTOR    REGION   GRADE LEVEL GENDER NUMBER OF ENROLLEES\n",
       "0   2010-2011  PUBLIC  REGION 1  KINDERGARTEN   MALE             43,376 \n",
       "1   2010-2011  PUBLIC  REGION 2  KINDERGARTEN   MALE             13,837 \n",
       "2   2010-2011  PUBLIC  REGION 3  KINDERGARTEN   MALE             72,310 "
      ]
     },
     "execution_count": 9,
     "metadata": {},
     "output_type": "execute_result"
    }
   ],
   "source": [
    "df.head(3)"
   ]
  },
  {
   "cell_type": "code",
   "execution_count": 10,
   "id": "1ed82e24-cda1-476c-bfee-d2622ab24062",
   "metadata": {},
   "outputs": [
    {
     "data": {
      "text/html": [
       "<div>\n",
       "<style scoped>\n",
       "    .dataframe tbody tr th:only-of-type {\n",
       "        vertical-align: middle;\n",
       "    }\n",
       "\n",
       "    .dataframe tbody tr th {\n",
       "        vertical-align: top;\n",
       "    }\n",
       "\n",
       "    .dataframe thead th {\n",
       "        text-align: right;\n",
       "    }\n",
       "</style>\n",
       "<table border=\"1\" class=\"dataframe\">\n",
       "  <thead>\n",
       "    <tr style=\"text-align: right;\">\n",
       "      <th></th>\n",
       "      <th>SCHOOL YEAR</th>\n",
       "      <th>SECTOR</th>\n",
       "      <th>REGION</th>\n",
       "      <th>GRADE LEVEL</th>\n",
       "      <th>GENDER</th>\n",
       "      <th>NUMBER OF ENROLLEES</th>\n",
       "    </tr>\n",
       "  </thead>\n",
       "  <tbody>\n",
       "    <tr>\n",
       "      <th>13468</th>\n",
       "      <td>2020-2021</td>\n",
       "      <td>SUCSLUCS</td>\n",
       "      <td>BARMM</td>\n",
       "      <td>NON-GRADE</td>\n",
       "      <td>FEMALE</td>\n",
       "      <td>-</td>\n",
       "    </tr>\n",
       "    <tr>\n",
       "      <th>13469</th>\n",
       "      <td>2020-2021</td>\n",
       "      <td>SUCSLUCS</td>\n",
       "      <td>CAR</td>\n",
       "      <td>NON-GRADE</td>\n",
       "      <td>FEMALE</td>\n",
       "      <td>-</td>\n",
       "    </tr>\n",
       "    <tr>\n",
       "      <th>13470</th>\n",
       "      <td>2020-2021</td>\n",
       "      <td>SUCSLUCS</td>\n",
       "      <td>NCR</td>\n",
       "      <td>NON-GRADE</td>\n",
       "      <td>FEMALE</td>\n",
       "      <td>-</td>\n",
       "    </tr>\n",
       "  </tbody>\n",
       "</table>\n",
       "</div>"
      ],
      "text/plain": [
       "      SCHOOL YEAR    SECTOR REGION GRADE LEVEL  GENDER NUMBER OF ENROLLEES\n",
       "13468   2020-2021  SUCSLUCS  BARMM   NON-GRADE  FEMALE                  - \n",
       "13469   2020-2021  SUCSLUCS    CAR   NON-GRADE  FEMALE                  - \n",
       "13470   2020-2021  SUCSLUCS    NCR   NON-GRADE  FEMALE                  - "
      ]
     },
     "execution_count": 10,
     "metadata": {},
     "output_type": "execute_result"
    }
   ],
   "source": [
    "df.tail(3)"
   ]
  },
  {
   "cell_type": "markdown",
   "id": "8e1f2c92-f181-4c70-b565-054463db902f",
   "metadata": {},
   "source": [
    "### Data Profiling"
   ]
  },
  {
   "cell_type": "markdown",
   "id": "00d86e70-1c64-46ab-8b40-a555c9b643d8",
   "metadata": {},
   "source": [
    "**Step 1: Data Type Information**"
   ]
  },
  {
   "cell_type": "code",
   "execution_count": 11,
   "id": "15e9c67c-797f-4d0e-82ab-91b92ae9d318",
   "metadata": {},
   "outputs": [
    {
     "name": "stdout",
     "output_type": "stream",
     "text": [
      "<class 'pandas.core.frame.DataFrame'>\n",
      "RangeIndex: 13471 entries, 0 to 13470\n",
      "Data columns (total 6 columns):\n",
      " #   Column               Non-Null Count  Dtype \n",
      "---  ------               --------------  ----- \n",
      " 0   SCHOOL YEAR          13471 non-null  object\n",
      " 1   SECTOR               13471 non-null  object\n",
      " 2   REGION               13471 non-null  object\n",
      " 3   GRADE LEVEL          13471 non-null  object\n",
      " 4   GENDER               13471 non-null  object\n",
      " 5   NUMBER OF ENROLLEES  13471 non-null  object\n",
      "dtypes: object(6)\n",
      "memory usage: 631.6+ KB\n"
     ]
    }
   ],
   "source": [
    "df.info()"
   ]
  },
  {
   "cell_type": "markdown",
   "id": "9868dac3-f08f-4914-b516-c15ad2df36eb",
   "metadata": {},
   "source": [
    "**Step 2: Data Shape**"
   ]
  },
  {
   "cell_type": "code",
   "execution_count": 12,
   "id": "651f6d2a-cba8-4b23-af88-fe54ef6c0b28",
   "metadata": {},
   "outputs": [
    {
     "data": {
      "text/plain": [
       "(13471, 6)"
      ]
     },
     "execution_count": 12,
     "metadata": {},
     "output_type": "execute_result"
    }
   ],
   "source": [
    "df.shape"
   ]
  },
  {
   "cell_type": "markdown",
   "id": "62687ff4-74b2-469d-bec6-62d394a78fc0",
   "metadata": {},
   "source": [
    "**Step 3: Statistical Information**"
   ]
  },
  {
   "cell_type": "code",
   "execution_count": 13,
   "id": "8573dcf0-b58e-4443-a480-2f388c02d5f4",
   "metadata": {},
   "outputs": [
    {
     "data": {
      "text/html": [
       "<div>\n",
       "<style scoped>\n",
       "    .dataframe tbody tr th:only-of-type {\n",
       "        vertical-align: middle;\n",
       "    }\n",
       "\n",
       "    .dataframe tbody tr th {\n",
       "        vertical-align: top;\n",
       "    }\n",
       "\n",
       "    .dataframe thead th {\n",
       "        text-align: right;\n",
       "    }\n",
       "</style>\n",
       "<table border=\"1\" class=\"dataframe\">\n",
       "  <thead>\n",
       "    <tr style=\"text-align: right;\">\n",
       "      <th></th>\n",
       "      <th>SCHOOL YEAR</th>\n",
       "      <th>SECTOR</th>\n",
       "      <th>REGION</th>\n",
       "      <th>GRADE LEVEL</th>\n",
       "      <th>GENDER</th>\n",
       "      <th>NUMBER OF ENROLLEES</th>\n",
       "    </tr>\n",
       "  </thead>\n",
       "  <tbody>\n",
       "    <tr>\n",
       "      <th>count</th>\n",
       "      <td>13471</td>\n",
       "      <td>13471</td>\n",
       "      <td>13471</td>\n",
       "      <td>13471</td>\n",
       "      <td>13471</td>\n",
       "      <td>13471</td>\n",
       "    </tr>\n",
       "    <tr>\n",
       "      <th>unique</th>\n",
       "      <td>11</td>\n",
       "      <td>3</td>\n",
       "      <td>34</td>\n",
       "      <td>13</td>\n",
       "      <td>2</td>\n",
       "      <td>7996</td>\n",
       "    </tr>\n",
       "    <tr>\n",
       "      <th>top</th>\n",
       "      <td>2015-2016</td>\n",
       "      <td>SUCSLUCS</td>\n",
       "      <td>REGION 1</td>\n",
       "      <td>GRADE 10</td>\n",
       "      <td>FEMALE</td>\n",
       "      <td>-</td>\n",
       "    </tr>\n",
       "    <tr>\n",
       "      <th>freq</th>\n",
       "      <td>1326</td>\n",
       "      <td>4495</td>\n",
       "      <td>760</td>\n",
       "      <td>1129</td>\n",
       "      <td>6739</td>\n",
       "      <td>939</td>\n",
       "    </tr>\n",
       "  </tbody>\n",
       "</table>\n",
       "</div>"
      ],
      "text/plain": [
       "       SCHOOL YEAR    SECTOR    REGION GRADE LEVEL  GENDER NUMBER OF ENROLLEES\n",
       "count        13471     13471     13471       13471   13471               13471\n",
       "unique          11         3        34          13       2                7996\n",
       "top      2015-2016  SUCSLUCS  REGION 1    GRADE 10  FEMALE                  - \n",
       "freq          1326      4495       760        1129    6739                 939"
      ]
     },
     "execution_count": 13,
     "metadata": {},
     "output_type": "execute_result"
    }
   ],
   "source": [
    "df.describe()"
   ]
  },
  {
   "cell_type": "markdown",
   "id": "455c887c-5034-423f-9425-3476efd001d6",
   "metadata": {},
   "source": [
    "**Step 4: Null Values**"
   ]
  },
  {
   "cell_type": "code",
   "execution_count": 14,
   "id": "31ee7663-c183-4655-8020-f559997118f6",
   "metadata": {},
   "outputs": [
    {
     "name": "stdout",
     "output_type": "stream",
     "text": [
      "No missing values in column: SCHOOL YEAR\n",
      "No missing values in column: SECTOR\n",
      "No missing values in column: REGION\n",
      "No missing values in column: GRADE LEVEL\n",
      "No missing values in column: GENDER\n",
      "No missing values in column: NUMBER OF ENROLLEES\n"
     ]
    }
   ],
   "source": [
    "for column in df.columns:\n",
    "    missing_values = df[df[column].isna()]\n",
    "    if not missing_values.empty:\n",
    "        print(f\"Missing values found in column: {column}\")\n",
    "        print(missing_values.head(10))\n",
    "    else:\n",
    "        print(f\"No missing values in column: {column}\")"
   ]
  },
  {
   "cell_type": "markdown",
   "id": "599aaa82-b934-4de6-8d81-2e54592282b3",
   "metadata": {},
   "source": [
    "**Step 6: Format Standardization**"
   ]
  },
  {
   "cell_type": "markdown",
   "id": "0c22cf93-4cc7-4e56-8f20-25f4bef025c2",
   "metadata": {},
   "source": [
    "`SCHOOL YEAR`\n",
    "> Current dtype: object (string)\\\n",
    "> Converted dtype: category"
   ]
  },
  {
   "cell_type": "code",
   "execution_count": 17,
   "id": "28c1a8a3-54f9-4f2f-b912-76d3d593fa6e",
   "metadata": {},
   "outputs": [],
   "source": [
    "df[\"SCHOOL YEAR\"] = df[\"SCHOOL YEAR\"].astype(\"category\")"
   ]
  },
  {
   "cell_type": "markdown",
   "id": "95eb3f72-0814-4134-94e8-9c054f243137",
   "metadata": {},
   "source": [
    "`SECTOR`\n",
    "> Current dtype: object (string)\\\n",
    "> Converted dtype: category"
   ]
  },
  {
   "cell_type": "code",
   "execution_count": 18,
   "id": "eff4ae47-64fc-4c84-b477-78909439ef74",
   "metadata": {},
   "outputs": [],
   "source": [
    "df[\"SECTOR\"] = df[\"SECTOR\"].astype(\"category\")"
   ]
  },
  {
   "cell_type": "markdown",
   "id": "9db4e065-5f8d-4bc2-b8b5-495c71d128ab",
   "metadata": {},
   "source": [
    "`REGION`\n",
    "> Current dtype: object (string)\\\n",
    "> Converted dtype: category"
   ]
  },
  {
   "cell_type": "code",
   "execution_count": 19,
   "id": "c2a07f26-a91e-4b97-ac66-186a7e8ae8db",
   "metadata": {},
   "outputs": [],
   "source": [
    "df[\"REGION\"] = df[\"REGION\"].astype(\"category\")"
   ]
  },
  {
   "cell_type": "markdown",
   "id": "1da580cb-7bb5-4d76-9c4f-4007fa980318",
   "metadata": {},
   "source": [
    "`GRADE LEVEL`\n",
    "> Current dtype: object (string)\\\n",
    "> Converted dtype: category"
   ]
  },
  {
   "cell_type": "code",
   "execution_count": 20,
   "id": "2cc7a84c-e9b7-4239-9963-82bff2263013",
   "metadata": {},
   "outputs": [],
   "source": [
    "df[\"GRADE LEVEL\"] = df[\"GRADE LEVEL\"].astype(\"category\")"
   ]
  },
  {
   "cell_type": "markdown",
   "id": "08fff9c7-5b15-4900-a906-2542e1d211ee",
   "metadata": {},
   "source": [
    "`NUMBER OF ENROLLLEES`\n",
    "> Current dtype: object (string)\\\n",
    "> Converted dtype: int or float"
   ]
  },
  {
   "cell_type": "code",
   "execution_count": null,
   "id": "c9bfea38-1126-44fd-9a59-1f93ecfb10a2",
   "metadata": {},
   "outputs": [],
   "source": [
    "# Kailangan muna nating pag-usapan ang pag-handle ng mga \"-\" muna, before converting to int or float. - Kyle\n",
    "# df[\"NUMBER OF ENROLLEES\"] = df[\"NUMBER OF ENROLLEES\"].astype(\"float\")"
   ]
  },
  {
   "cell_type": "markdown",
   "id": "c8040c61-a1ca-40eb-bb69-19c2fb734112",
   "metadata": {},
   "source": [
    "**Step 7: Checking for Incorrect Formatting**"
   ]
  },
  {
   "cell_type": "markdown",
   "id": "ce9d492f-7244-429b-9553-365000db0557",
   "metadata": {},
   "source": [
    "`SCHOOL YEAR`"
   ]
  },
  {
   "cell_type": "code",
   "execution_count": 21,
   "id": "bc27824e-cf0b-4185-b901-6cab2432d077",
   "metadata": {},
   "outputs": [
    {
     "name": "stdout",
     "output_type": "stream",
     "text": [
      "Incorrect SCHOOL YEAR formatting:\n",
      "[], Categories (11, object): ['2010-2011', '2011-2012', '2012-2013', '2013-2014', ..., '2017-2018', '2018-2019', '2019-2020', '2020-2021']\n"
     ]
    }
   ],
   "source": [
    "inc_sy = df[~df[\"SCHOOL YEAR\"].str.match(r\"^\\d{4}-\\d{4}$\")]\n",
    "print(\"Incorrect SCHOOL YEAR formatting:\")\n",
    "print(inc_sy[\"SCHOOL YEAR\"].unique())  # Display unique incorrect values"
   ]
  },
  {
   "cell_type": "markdown",
   "id": "066a38c3-352e-4ddc-b5c1-0c6f4a4490d8",
   "metadata": {},
   "source": [
    "`REGION`"
   ]
  },
  {
   "cell_type": "code",
   "execution_count": 22,
   "id": "a5fd03a5-fd28-4bcd-91cf-6111f8a5eab7",
   "metadata": {},
   "outputs": [
    {
     "name": "stdout",
     "output_type": "stream",
     "text": [
      "Incorrect REGION formatting:\n",
      "['REGION 4A', 'REGION 4B', 'CARAGA', 'BARMM', 'CAR', ..., ' REGION 12 ', ' CARAGA ', ' BARMM ', ' CAR ', ' NCR ']\n",
      "Length: 23\n",
      "Categories (34, object): [' BARMM ', ' CAR ', ' CARAGA ', ' NCR ', ..., 'REGION 6', 'REGION 7', 'REGION 8', 'REGION 9']\n"
     ]
    }
   ],
   "source": [
    "inc_region = df[~df[\"REGION\"].str.match(r\"^REGION \\d+$\")]\n",
    "print(\"Incorrect REGION formatting:\")\n",
    "print(inc_region[\"REGION\"].unique())"
   ]
  },
  {
   "cell_type": "markdown",
   "id": "188618f1-baf0-44d4-ba58-3239115f73e3",
   "metadata": {},
   "source": [
    "`GRADE LEVEL`"
   ]
  },
  {
   "cell_type": "code",
   "execution_count": 24,
   "id": "041bbc2b-9dbd-45c5-abd0-81fa8f426658",
   "metadata": {},
   "outputs": [
    {
     "name": "stdout",
     "output_type": "stream",
     "text": [
      "Incorrect GRADE LEVEL formatting:\n",
      "['NON-GRADE', 'KINDERGARDEN']\n",
      "Categories (13, object): ['GRADE 1', 'GRADE 10', 'GRADE 2', 'GRADE 3', ..., 'GRADE 9', 'KINDERGARDEN', 'KINDERGARTEN', 'NON-GRADE']\n"
     ]
    }
   ],
   "source": [
    "inc_grade = df[~df[\"GRADE LEVEL\"].str.match(r\"^(GRADE \\d+|KINDERGARTEN)$\")]\n",
    "print(\"Incorrect GRADE LEVEL formatting:\")\n",
    "print(inc_grade[\"GRADE LEVEL\"].unique())"
   ]
  },
  {
   "cell_type": "markdown",
   "id": "f067024f-149b-4cf1-9aaa-85cadcd27eef",
   "metadata": {},
   "source": [
    "### Data Cleaning"
   ]
  },
  {
   "cell_type": "markdown",
   "id": "531ca9bb-d9a9-4406-89af-09f1812ca57d",
   "metadata": {},
   "source": [
    "**Step 1: Rechecking of Dataframe's Info**"
   ]
  },
  {
   "cell_type": "code",
   "execution_count": null,
   "id": "08083ec5-b3ca-4ad4-983f-0868f48f890c",
   "metadata": {},
   "outputs": [],
   "source": []
  },
  {
   "cell_type": "markdown",
   "id": "b63cd679-3a84-4c1b-8beb-401d6af7f665",
   "metadata": {},
   "source": [
    "**Step 2: Removing of Null Values**"
   ]
  },
  {
   "cell_type": "code",
   "execution_count": null,
   "id": "d9ca257b-11e7-4f90-b18a-69aded33f24d",
   "metadata": {},
   "outputs": [],
   "source": []
  },
  {
   "cell_type": "markdown",
   "id": "276c9f4d-f4f9-46c6-9c8b-3bbe561e61c6",
   "metadata": {},
   "source": [
    "**Step 3: Removing of Zero Values**"
   ]
  },
  {
   "cell_type": "code",
   "execution_count": null,
   "id": "f6a0d4db-1930-4872-8d77-772d4d86ec12",
   "metadata": {},
   "outputs": [],
   "source": []
  },
  {
   "cell_type": "markdown",
   "id": "83d9de0b-e238-41c6-a7ca-60f2bf82c9af",
   "metadata": {},
   "source": [
    "**Step 4: Fixing Incorrect Format**"
   ]
  },
  {
   "cell_type": "code",
   "execution_count": null,
   "id": "0b443874-1e32-4f78-9a6a-a9c78ef2acdf",
   "metadata": {},
   "outputs": [],
   "source": []
  }
 ],
 "metadata": {
  "kernelspec": {
   "display_name": "Python 3 (ipykernel)",
   "language": "python",
   "name": "python3"
  },
  "language_info": {
   "codemirror_mode": {
    "name": "ipython",
    "version": 3
   },
   "file_extension": ".py",
   "mimetype": "text/x-python",
   "name": "python",
   "nbconvert_exporter": "python",
   "pygments_lexer": "ipython3",
   "version": "3.12.1"
  }
 },
 "nbformat": 4,
 "nbformat_minor": 5
}
